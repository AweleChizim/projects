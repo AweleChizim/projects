{
 "cells": [
  {
   "cell_type": "code",
   "execution_count": 7,
   "id": "39e4c05a",
   "metadata": {},
   "outputs": [
    {
     "name": "stdout",
     "output_type": "stream",
     "text": [
      "This is a practice oop code!\n",
      "Welcome to Sanfte Worte!\n",
      "Good day\n",
      "This is a practice oop code!\n",
      "Welcome to Sanfte Worte!\n",
      "Good day\n"
     ]
    }
   ],
   "source": [
    "class SanfteData():\n",
    "    '''This is a practice oop code!'''\n",
    "    hi = \"Welcome to Sanfte!\"\n",
    "    def intro(self):\n",
    "        print('Good day')\n",
    "    \n",
    "print(SanfteData.__doc__)\n",
    "print(SanfteData.hi)\n",
    "SanfteData.intro(\"hi\")\n",
    "\n",
    "a = SanfteData()\n",
    "print(a.__doc__)\n",
    "print(a.hi)\n",
    "a.intro()"
   ]
  },
  {
   "cell_type": "code",
   "execution_count": null,
   "id": "d02176dd",
   "metadata": {},
   "outputs": [],
   "source": []
  }
 ],
 "metadata": {
  "kernelspec": {
   "display_name": "Python 3 (ipykernel)",
   "language": "python",
   "name": "python3"
  },
  "language_info": {
   "codemirror_mode": {
    "name": "ipython",
    "version": 3
   },
   "file_extension": ".py",
   "mimetype": "text/x-python",
   "name": "python",
   "nbconvert_exporter": "python",
   "pygments_lexer": "ipython3",
   "version": "3.10.9"
  }
 },
 "nbformat": 4,
 "nbformat_minor": 5
}
